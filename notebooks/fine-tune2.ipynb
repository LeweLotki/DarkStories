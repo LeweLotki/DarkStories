{
 "cells": [
  {
   "cell_type": "code",
   "execution_count": 1,
   "id": "6346a70f-3cba-4c32-8142-118cea4a5990",
   "metadata": {},
   "outputs": [],
   "source": [
    "import os\n",
    "import json\n",
    "import time\n",
    "import openai"
   ]
  },
  {
   "cell_type": "code",
   "execution_count": 2,
   "id": "9188af03-e406-4e25-9d5f-f6a7831df0b1",
   "metadata": {},
   "outputs": [],
   "source": [
    "openai.api_key = os.getenv('OPENAI_API_KEY')"
   ]
  },
  {
   "cell_type": "markdown",
   "id": "13764212-d8e3-46c6-aeef-0a07ebc3ab5c",
   "metadata": {},
   "source": [
    "## Fine-tuning"
   ]
  },
  {
   "cell_type": "code",
   "execution_count": 3,
   "id": "fd838d58-7a34-427d-8ecc-9f2496c0904c",
   "metadata": {},
   "outputs": [],
   "source": [
    "jsonl_file_path = \"prompts2.jsonl\""
   ]
  },
  {
   "cell_type": "code",
   "execution_count": 4,
   "id": "6f5e86f6-0d4d-4b6b-b632-31f18fe9325c",
   "metadata": {},
   "outputs": [
    {
     "name": "stdout",
     "output_type": "stream",
     "text": [
      "File uploaded successfully. File ID: file-Cc9ZPhXYq8cRd5Mc3Xhvp3\n"
     ]
    }
   ],
   "source": [
    "def upload_training_file(file_path):\n",
    "    try:\n",
    "        with open(file_path, \"rb\") as f:\n",
    "            response = openai.files.create(file=f, purpose=\"fine-tune\")\n",
    "            print(f\"File uploaded successfully. File ID: {response.id}\")\n",
    "            return response.id\n",
    "    except Exception as e:\n",
    "        print(f\"File upload failed: {e}\")\n",
    "        return None\n",
    "\n",
    "training_file_id = upload_training_file(jsonl_file_path)"
   ]
  },
  {
   "cell_type": "code",
   "execution_count": 5,
   "id": "47b39b83-28e0-4011-8eff-bf8678476237",
   "metadata": {},
   "outputs": [
    {
     "name": "stdout",
     "output_type": "stream",
     "text": [
      "Fine-tuning job started. Job ID: ftjob-nYOGsinYa8SVxiB3hiApyK6A\n"
     ]
    }
   ],
   "source": [
    "def fine_tune_model(training_file_id, base_model=\"gpt-4o-2024-08-06\"):\n",
    "    try:\n",
    "        fine_tune_response = openai.fine_tuning.jobs.create(\n",
    "            training_file=training_file_id,\n",
    "            model=base_model\n",
    "        )\n",
    "        print(f\"Fine-tuning job started. Job ID: {fine_tune_response.id}\")\n",
    "        return fine_tune_response.id\n",
    "    except Exception as e:\n",
    "        print(f\"Failed to start fine-tuning: {e}\")\n",
    "        return None\n",
    "\n",
    "fine_tune_job_id = fine_tune_model(training_file_id)"
   ]
  },
  {
   "cell_type": "code",
   "execution_count": 6,
   "id": "8cd8aa74-a2bc-4fd5-8828-74f7420bc5c7",
   "metadata": {},
   "outputs": [
    {
     "name": "stdout",
     "output_type": "stream",
     "text": [
      "Job Status: validating_files\n",
      "Job Status: validating_files\n",
      "Job Status: validating_files\n",
      "Job Status: validating_files\n",
      "Job Status: validating_files\n",
      "Job Status: validating_files\n",
      "Job Status: running\n",
      "Job Status: running\n",
      "Job Status: running\n",
      "Job Status: running\n",
      "Job Status: running\n",
      "Job Status: running\n",
      "Job Status: running\n",
      "Job Status: running\n",
      "Job Status: running\n",
      "Job Status: running\n",
      "Job Status: running\n",
      "Job Status: running\n",
      "Job Status: running\n",
      "Job Status: running\n",
      "Job Status: running\n",
      "Job Status: running\n",
      "Job Status: running\n",
      "Job Status: running\n",
      "Job Status: running\n",
      "Job Status: running\n",
      "Job Status: running\n",
      "Job Status: running\n",
      "Job Status: running\n",
      "Job Status: running\n",
      "Job Status: running\n",
      "Job Status: running\n",
      "Job Status: running\n",
      "Job Status: running\n",
      "Job Status: running\n",
      "Job Status: running\n",
      "Job Status: running\n",
      "Job Status: running\n",
      "Job Status: running\n",
      "Job Status: running\n",
      "Job Status: running\n",
      "Job Status: running\n",
      "Job Status: running\n",
      "Job Status: running\n",
      "Job Status: running\n",
      "Job Status: running\n",
      "Job Status: running\n",
      "Job Status: running\n",
      "Job Status: running\n",
      "Job Status: running\n",
      "Job Status: running\n",
      "Job Status: running\n",
      "Job Status: running\n",
      "Job Status: running\n",
      "Job Status: running\n",
      "Job Status: running\n",
      "Job Status: running\n",
      "Job Status: running\n",
      "Job Status: running\n",
      "Job Status: running\n",
      "Job Status: succeeded\n",
      "Fine-tuning job completed with status: succeeded\n",
      "Fine-tuned model: ft:gpt-4o-2024-08-06:personal::ArlwY1XZ\n"
     ]
    }
   ],
   "source": [
    "def monitor_fine_tuning_job(job_id):\n",
    "    try:\n",
    "        while True:\n",
    "            response = openai.fine_tuning.jobs.retrieve(job_id)\n",
    "            print(f\"Job Status: {response.status}\")\n",
    "            \n",
    "            if response.status in ['succeeded', 'failed']:\n",
    "                print(f\"Fine-tuning job completed with status: {response.status}\")\n",
    "                \n",
    "                if response.status == 'failed':\n",
    "                    print(f\"Fetching error details for job: {job_id}\")\n",
    "                    events = openai.fine_tuning.jobs.list_events(fine_tuning_job_id=job_id)\n",
    "                    for event in events.data:\n",
    "                        print(f\"Event: {event.message}\")  \n",
    "                        \n",
    "                if response.status == 'succeeded':\n",
    "                    print(f\"Fine-tuned model: {response.fine_tuned_model}\")\n",
    "                    \n",
    "                return response.fine_tuned_model\n",
    "            time.sleep(10)  \n",
    "    except Exception as e:\n",
    "        print(f\"Error monitoring fine-tuning job: {e}\")\n",
    "\n",
    "fine_tuned_model_id = monitor_fine_tuning_job(fine_tune_job_id)"
   ]
  },
  {
   "cell_type": "markdown",
   "id": "7ee1624d-b4fc-48d9-bf48-8e8b9aea2562",
   "metadata": {},
   "source": [
    "## Using your fine-tuned model"
   ]
  },
  {
   "cell_type": "code",
   "execution_count": 10,
   "id": "b49990d5-d984-43bd-bf8d-fc535ab2f1d2",
   "metadata": {},
   "outputs": [
    {
     "name": "stdout",
     "output_type": "stream",
     "text": [
      "Model Response:\n",
      "FALSE\n"
     ]
    }
   ],
   "source": [
    "def use_fine_tuned_model(model_id, prompt):\n",
    "    try:\n",
    "        response = openai.chat.completions.create(\n",
    "            model=model_id,\n",
    "            messages=[\n",
    "                {\"role\": \"system\", \"content\": \"You are a game master.\"},\n",
    "                {\"role\": \"user\", \"content\": prompt}\n",
    "            ]\n",
    "        )\n",
    "        return response.choices[0].message.content.strip()\n",
    "    except Exception as e:\n",
    "        print(f\"Error using the fine-tuned model: {e}\")\n",
    "        return None\n",
    "\n",
    "fine_tuned_model_id = 'ft:gpt-4o-2024-08-06:personal::ArlwY1XZ'\n",
    "\n",
    "prompt = '''\n",
    "    You are given a dark story, which description is known to the user \n",
    "    however its solution is known only to you. User tried to solve the puzzle. \n",
    "    Your goal is to decide wheter the user found the essence of the solution. \n",
    "    Respond with TRUE, if the user found out the essence of the puzzle \n",
    "    or FALSE if he failed to do so. The known description to the dark story: \n",
    "    Man goes to the bar and asks for a glass of water. Barman takes a gun and puts it \n",
    "    to the man's head. The man says 'thank you' and leaves the bar. \n",
    "    and here is solution to the dark story: The man had hiccups, he wanted to end them with a glass of water, \n",
    "    but instead, the barman scared him which ended the hiccups. \n",
    "    user solution is as follow: man was mentaly ill.\n",
    "'''\n",
    "\n",
    "\n",
    "response = use_fine_tuned_model(fine_tuned_model_id, prompt)\n",
    "    \n",
    "if response:\n",
    "    print(f\"Model Response:\\n{response}\")\n",
    "else:\n",
    "    print(\"Failed to get a response from the fine-tuned model.\")"
   ]
  }
 ],
 "metadata": {
  "kernelspec": {
   "display_name": "Python 3 (ipykernel)",
   "language": "python",
   "name": "python3"
  },
  "language_info": {
   "codemirror_mode": {
    "name": "ipython",
    "version": 3
   },
   "file_extension": ".py",
   "mimetype": "text/x-python",
   "name": "python",
   "nbconvert_exporter": "python",
   "pygments_lexer": "ipython3",
   "version": "3.12.3"
  }
 },
 "nbformat": 4,
 "nbformat_minor": 5
}
